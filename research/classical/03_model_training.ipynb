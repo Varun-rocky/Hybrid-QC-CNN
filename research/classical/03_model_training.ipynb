{
 "cells": [
  {
   "cell_type": "code",
   "execution_count": 1,
   "metadata": {},
   "outputs": [],
   "source": [
    "import os\n",
    "os.chdir('../')"
   ]
  },
  {
   "cell_type": "code",
   "execution_count": 20,
   "metadata": {},
   "outputs": [],
   "source": [
    "import tensorflow as tf\n",
    "from tensorflow.keras.applications import ResNet50 , InceptionV3\n",
    "from tensorflow.keras.preprocessing import image\n",
    "from tensorflow.keras import layers, models\n",
    "from tensorflow.keras.applications.resnet50 import preprocess_input, decode_predictions\n",
    "import numpy as np"
   ]
  },
  {
   "cell_type": "code",
   "execution_count": 21,
   "metadata": {},
   "outputs": [],
   "source": [
    "from dataclasses import dataclass\n",
    "from pathlib import Path\n",
    "@dataclass\n",
    "class ClassicalModelTrainerConfig:\n",
    "    root_dir: Path\n",
    "    data_path: Path\n",
    "    model_ckpt: str\n",
    "    num_train_epochs: int\n",
    "    batch_size: int\n",
    "    model_name: str\n",
    "    num_classes:int"
   ]
  },
  {
   "cell_type": "code",
   "execution_count": 22,
   "metadata": {},
   "outputs": [],
   "source": [
    "from HybridQCCNN.constants import *\n",
    "from HybridQCCNN.utils.common import read_yaml, create_directories, get_size"
   ]
  },
  {
   "cell_type": "code",
   "execution_count": 23,
   "metadata": {},
   "outputs": [],
   "source": [
    "class ConfigurationManager:\n",
    "    def __init__(self,\n",
    "                 config_file_path=CONFIG_FILE_PATH,\n",
    "                 params_file_path=PARAMS_FILE_PATH):\n",
    "        self.config=read_yaml(config_file_path)\n",
    "        self.params=read_yaml(params_file_path)\n",
    "\n",
    "        \n",
    "    def get_model_trainer_config(self)-> ClassicalModelTrainerConfig:\n",
    "        \n",
    "        config=self.config.classical_model_config\n",
    "        params=self.params.ClassicalTrainingArguments\n",
    "        \n",
    "        create_directories([config.root_dir])\n",
    "        model_trainer_config = ClassicalModelTrainerConfig(\n",
    "            root_dir=config.root_dir,\n",
    "            data_path=config.data_path,\n",
    "            model_ckpt = config.model_ckpt,\n",
    "            num_train_epochs = params.num_train_epochs,\n",
    "            batch_size = params.train_batch_size,\n",
    "            model_name= config.model_name,\n",
    "            num_classes=config.num_classes,\n",
    "            optimizer= params.optimizer,\n",
    "            loss=params.loss,\n",
    "            accuracy= params.accuracy\n",
    "\n",
    "        )\n",
    "        return model_trainer_config  "
   ]
  },
  {
   "cell_type": "code",
   "execution_count": 24,
   "metadata": {},
   "outputs": [],
   "source": [
    "from HybridQCCNN.components import data_transformation"
   ]
  },
  {
   "cell_type": "code",
   "execution_count": null,
   "metadata": {},
   "outputs": [],
   "source": [
    "class ClassicalModelTrainer:\n",
    "    def __init__(self,\n",
    "                 config:ClassicalModelTrainerConfig):\n",
    "        self.config=config\n",
    "        \n",
    "        \n",
    "    def build_model(self):\n",
    "        if self.config.model_name=='ResNet50':\n",
    "            base_model=ResNet50(weights='imagenet')\n",
    "        elif self.config.model_name=='InceptionV3':\n",
    "            base_model=InceptionV3(weights='imagenet')\n",
    "            \n",
    "        x = base_model.output\n",
    "        x = layers.GlobalAveragePooling2D()(x)\n",
    "        x = layers.Dense(256, activation='relu')(x)\n",
    "        predictions = layers.Dense(self.config.num_classes, activation='softmax')(x)\n",
    "        \n",
    "        self.model = models.Model(inputs=base_model.input, outputs=predictions)\n",
    "\n",
    "    def train(self, train_data):\n",
    "        model=self.model\n",
    "        \n",
    "        \n",
    "        \n",
    "          \n",
    "        \n",
    "        \n",
    "\n",
    "    "
   ]
  },
  {
   "cell_type": "code",
   "execution_count": 18,
   "metadata": {},
   "outputs": [],
   "source": [
    "model=ResNet50(weights='imagenet')"
   ]
  },
  {
   "cell_type": "code",
   "execution_count": null,
   "metadata": {},
   "outputs": [],
   "source": []
  }
 ],
 "metadata": {
  "kernelspec": {
   "display_name": "cirq",
   "language": "python",
   "name": "python3"
  },
  "language_info": {
   "codemirror_mode": {
    "name": "ipython",
    "version": 3
   },
   "file_extension": ".py",
   "mimetype": "text/x-python",
   "name": "python",
   "nbconvert_exporter": "python",
   "pygments_lexer": "ipython3",
   "version": "3.8.18"
  }
 },
 "nbformat": 4,
 "nbformat_minor": 2
}
